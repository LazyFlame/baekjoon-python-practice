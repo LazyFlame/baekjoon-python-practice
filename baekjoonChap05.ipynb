{
 "cells": [
  {
   "cell_type": "markdown",
   "metadata": {},
   "source": [
    "- 문제번호: 27866\n",
    "- 문제이름: 문자와 문자열"
   ]
  },
  {
   "cell_type": "code",
   "execution_count": null,
   "metadata": {},
   "outputs": [],
   "source": [
    "s = input()\n",
    "i = int(input())\n",
    "\n",
    "print(s[i-1])"
   ]
  },
  {
   "cell_type": "markdown",
   "metadata": {},
   "source": [
    "- 문제번호: 2743\n",
    "- 문제이름: 단어 길이 재기"
   ]
  },
  {
   "cell_type": "code",
   "execution_count": null,
   "metadata": {},
   "outputs": [],
   "source": [
    "s = input()\n",
    "print(len(s))"
   ]
  },
  {
   "cell_type": "markdown",
   "metadata": {},
   "source": [
    "- 문제번호: 9086\n",
    "- 문제이름: 문자열"
   ]
  },
  {
   "cell_type": "code",
   "execution_count": null,
   "metadata": {},
   "outputs": [],
   "source": [
    "T = int(input())\n",
    "\n",
    "for _ in range(T):\n",
    "    s = input()\n",
    "    print(s[0] + s[len(s)-1])"
   ]
  },
  {
   "cell_type": "markdown",
   "metadata": {},
   "source": [
    "- 문제번호: 11654\n",
    "- 문제이름: 아스키 코드\n",
    "- 알게 된 내용\n",
    "  - ord() 함수를 사용하면 해당 문자의 아스키 코드를 반환함."
   ]
  },
  {
   "cell_type": "code",
   "execution_count": null,
   "metadata": {},
   "outputs": [],
   "source": [
    "chr = input()\n",
    "print(ord(chr))"
   ]
  },
  {
   "cell_type": "markdown",
   "metadata": {},
   "source": [
    "- 문제번호: 11720\n",
    "- 문제이름: 숫자의 합\n",
    "- 알게 된 내용\n",
    "  - 단순히 생각하고 접근하기!!"
   ]
  },
  {
   "cell_type": "code",
   "execution_count": null,
   "metadata": {},
   "outputs": [],
   "source": [
    "length = int(input())\n",
    "num = input()\n",
    "sum = 0\n",
    "\n",
    "for i in range(length):\n",
    "    sum += int(num[i])\n",
    "\n",
    "print(sum)"
   ]
  },
  {
   "cell_type": "markdown",
   "metadata": {},
   "source": [
    "- 문제번호: 10809\n",
    "- 문제이름: 알파벳 찾기\n",
    "- 알게된 내용\n",
    "  - Jupyter 환경에서 chr() 함수 사용 시 오류 발생함.\n",
    "    ※ 오류 내용\n",
    "      TypeError: 'str' object is not callable\n",
    "  - chr() 함수를 사용하면 소괄호 내 숫자(아스키 코드)에 해당하는 문자를 반환함.\n",
    "  - 문자열에서 .find() 메소드를 사용하면 문자열 내 소괄호 내 문자가 있다면 인덱스를, 없다면 -1을 반환함."
   ]
  },
  {
   "cell_type": "code",
   "execution_count": null,
   "metadata": {},
   "outputs": [],
   "source": [
    "S = input()\n",
    "\n",
    "for i in range(ord('a'), ord('z')+1):\n",
    "    print(S.find(chr(i)), end=\" \")"
   ]
  },
  {
   "cell_type": "markdown",
   "metadata": {},
   "source": [
    "- 문제번호: 2675\n",
    "- 문제이름: 문자열 반복"
   ]
  },
  {
   "cell_type": "code",
   "execution_count": null,
   "metadata": {},
   "outputs": [],
   "source": [
    "T = int(input())\n",
    "\n",
    "for _ in range(T):\n",
    "    repeat, string = input().split()\n",
    "    for i in string:\n",
    "        print(i * int(repeat), end=\"\")\n",
    "    print(\"\")"
   ]
  },
  {
   "cell_type": "markdown",
   "metadata": {},
   "source": [
    "- 문제번호: 1152\n",
    "- 문제이름: 단어의 개수"
   ]
  },
  {
   "cell_type": "code",
   "execution_count": null,
   "metadata": {},
   "outputs": [],
   "source": [
    "S = input().split()\n",
    "print(len(S))"
   ]
  },
  {
   "cell_type": "markdown",
   "metadata": {},
   "source": [
    "- 문제번호: 2908\n",
    "- 문제이름: 상수\n",
    "- 알게 된 내용\n",
    "  - zip() 함수는 여러 변수의 값을 인덱스 순으로 순회하며 묶어주는 함수이다.\n",
    "  - .join() 메소드는 리스트의 값을 문자열로 합쳐 반환해준다."
   ]
  },
  {
   "cell_type": "code",
   "execution_count": null,
   "metadata": {},
   "outputs": [],
   "source": [
    "num1, num2 = map(list, input().split())\n",
    "\n",
    "num1.reverse()\n",
    "num2.reverse()\n",
    "\n",
    "renum1 = ''.join(num1)\n",
    "renum2 = ''.join(num2)\n",
    "\n",
    "print(max(int(renum1), int(renum2)))"
   ]
  },
  {
   "cell_type": "markdown",
   "metadata": {},
   "source": [
    "- 문제번호: 5622\n",
    "- 문제이름: 다이얼\n",
    "- 알게 된 내용\n",
    "  - 문제 이해 연습 필요!!"
   ]
  },
  {
   "cell_type": "code",
   "execution_count": null,
   "metadata": {},
   "outputs": [],
   "source": [
    "numtochr=[\"ABC\", \"DEF\", \"GHI\", \"JKL\", \"MNO\", \"PQRS\", \"TUV\", \"WXYZ\"]\n",
    "number = input()\n",
    "time = 0\n",
    "\n",
    "for i in number:\n",
    "    for j in range(len(numtochr)):\n",
    "        if i in numtochr[j]:\n",
    "            time = time + (j + 2)\n",
    "\n",
    "print(time + len(number))"
   ]
  },
  {
   "cell_type": "markdown",
   "metadata": {},
   "source": [
    "- 문제번호: 11718\n",
    "- 문제이름: 그대로 출력하기\n",
    "- 오답 사유\n",
    "  - 무한 루프 중지 조건 미작성\n",
    "- 알게 된 내용\n",
    "  - EOFError는 'try: ~ except:' 구문으로 해결할 수 있음."
   ]
  },
  {
   "cell_type": "code",
   "execution_count": null,
   "metadata": {},
   "outputs": [],
   "source": [
    "while True:\n",
    "    try:\n",
    "        print(input())\n",
    "    except:\n",
    "        break"
   ]
  }
 ],
 "metadata": {
  "kernelspec": {
   "display_name": "base",
   "language": "python",
   "name": "python3"
  },
  "language_info": {
   "codemirror_mode": {
    "name": "ipython",
    "version": 3
   },
   "file_extension": ".py",
   "mimetype": "text/x-python",
   "name": "python",
   "nbconvert_exporter": "python",
   "pygments_lexer": "ipython3",
   "version": "3.9.13"
  }
 },
 "nbformat": 4,
 "nbformat_minor": 2
}
