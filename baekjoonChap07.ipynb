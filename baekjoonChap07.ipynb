{
 "cells": [
  {
   "cell_type": "markdown",
   "metadata": {},
   "source": [
    "# 사전 내용 학습\n",
    "\n",
    "- 2차원 배열\n",
    "  - 배열 안에 배열이 있는 구조\n",
    "  - 선언 방법\n",
    "    - 1. arr = [[0] * 5] * 10\n",
    "      - 이 방법으로 선언할 수 있으나, **얕은 복사**로서 나머지 배열 내 배열들은 하나의 배열을 바라본다.\n",
    "    \n",
    "    - 2. arr = [[0 for j in range(5)] for i in range(10)]\n",
    "      - for문을 사용하여 선언할 수 있으며, 이렇게 선언한다면 각 배열들이 다른 주소를 가지게 되므로, 각 배열 내 원소 제어가 가능함."
   ]
  },
  {
   "cell_type": "markdown",
   "metadata": {},
   "source": [
    "- 문제 번호: 2738\n",
    "- 문제 이름: 행렬 덧셈\n",
    "- 오답 사유\n",
    "  - 행(n), 열(m)을 거꾸로 작성함."
   ]
  },
  {
   "cell_type": "code",
   "execution_count": null,
   "metadata": {},
   "outputs": [],
   "source": [
    "n, m = map(int, input().split())\n",
    "matrix1 = []\n",
    "matrix2 = []\n",
    "\n",
    "for i in range(n):\n",
    "    nums = input().split()\n",
    "    matrix1.append(nums)\n",
    "\n",
    "for j in range(n):\n",
    "    nums = input().split()\n",
    "    matrix2.append(nums)\n",
    "\n",
    "for k in range(n):\n",
    "    for l in range(m):\n",
    "        sum = 0\n",
    "        sum = int(matrix1[k][l]) + int(matrix2[k][l])\n",
    "        print(sum, end=\" \")\n",
    "    print(\"\")"
   ]
  },
  {
   "cell_type": "markdown",
   "metadata": {},
   "source": [
    "- 문제 번호: 2566\n",
    "- 문제 이름: 최댓값"
   ]
  },
  {
   "cell_type": "code",
   "execution_count": null,
   "metadata": {},
   "outputs": [],
   "source": [
    "nums = []\n",
    "max = 0\n",
    "x, y = 0, 0\n",
    "\n",
    "for _ in range(9):\n",
    "    num = input().split()\n",
    "    nums.append(num)\n",
    "\n",
    "for i in range(9):\n",
    "    for j in range(9):\n",
    "        if int(nums[i][j]) > max:\n",
    "            max = int(nums[i][j])\n",
    "            x, y = i, j\n",
    "\n",
    "print(max)\n",
    "print(x+1, y+1)"
   ]
  },
  {
   "cell_type": "markdown",
   "metadata": {},
   "source": [
    "- 문제 번호: 10798\n",
    "- 문제 이름: 세로읽기\n",
    "- 알게 된 내용\n",
    "  - 길이가 다른 문자열이 있다면 조건을 걸고 정상적으로 넘어갈 수 있는 방법도 고려해보기"
   ]
  },
  {
   "cell_type": "code",
   "execution_count": null,
   "metadata": {},
   "outputs": [],
   "source": [
    "strs = []\n",
    "result = \"\"\n",
    "\n",
    "for _ in range(5):\n",
    "    str = input()\n",
    "    strs.append(str)\n",
    "\n",
    "for i in range(15):\n",
    "    for j in range(5):\n",
    "        try:\n",
    "            print(strs[j][i], end=\"\")\n",
    "        except:\n",
    "            pass\n"
   ]
  },
  {
   "cell_type": "markdown",
   "metadata": {},
   "source": [
    "- 문제 번호: 2563\n",
    "- 문제 이름: 색종이\n",
    "- 알게 된 내용\n",
    "  - map()은 이터레이터를 반환하는 함수이다.\n",
    "- 문제 접근 방법\n",
    "  - 전체 면적을 0으로 초기화된 이차원 배열로 초기화\n",
    "  - 이후 색종이 좌표에서 가로, 세로 10칸씩을 1로 변경\n",
    "  - 1인 칸의 개수를 세면 면적 나옴.\n",
    "\n",
    "  ※ 참고자료\n",
    "    <br/>\n",
    "    https://kevinitcoding.tistory.com/entry/%EB%B0%B1%EC%A4%80Python-2563%EB%B2%88-%EC%83%89%EC%A2%85%EC%9D%B4-%EB%AC%B8%EC%A0%9C"
   ]
  },
  {
   "cell_type": "code",
   "execution_count": null,
   "metadata": {},
   "outputs": [],
   "source": [
    "# 전체 면적을 0으로 초기화된 이차원 배열로 초기화\n",
    "area = [[0 for _ in range(100)] for _ in range(100)]\n",
    "\n",
    "# 1인 칸의 개수를 저장할 변수 선언\n",
    "result = 0\n",
    "\n",
    "# 덮을 색종이 장 수를 입력받기\n",
    "T = int(input())\n",
    "\n",
    "for _ in range(T):\n",
    "    # 색종이별 좌표를 입력받고,\n",
    "    x, y = map(int, input().split())\n",
    "\n",
    "    # 색종이 좌표로부터 가로 10칸 세로 10칸을 1로 변경\n",
    "    for i in range(x, (x+10)):\n",
    "        for j in range(y, (y+10)):\n",
    "            area[i-1][j-1] = 1\n",
    "\n",
    "# area 리스트에 저장된 값 중 1인 칸의 개수를 확인\n",
    "for k in range(100):\n",
    "    for l in range(100):\n",
    "        result += area[k][l]\n",
    "\n",
    "# 결과 출력\n",
    "print(result)\n"
   ]
  }
 ],
 "metadata": {
  "kernelspec": {
   "display_name": "base",
   "language": "python",
   "name": "python3"
  },
  "language_info": {
   "codemirror_mode": {
    "name": "ipython",
    "version": 3
   },
   "file_extension": ".py",
   "mimetype": "text/x-python",
   "name": "python",
   "nbconvert_exporter": "python",
   "pygments_lexer": "ipython3",
   "version": "3.9.13"
  }
 },
 "nbformat": 4,
 "nbformat_minor": 2
}
