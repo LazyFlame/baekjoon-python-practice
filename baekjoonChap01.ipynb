{
 "cells": [
  {
   "cell_type": "markdown",
   "id": "84036feb-8d27-4094-b0e7-5849b44d9eec",
   "metadata": {},
   "source": [
    "- 문제번호 : 2557\n",
    "- 문제이름 : Hello World"
   ]
  },
  {
   "cell_type": "code",
   "execution_count": null,
   "id": "55fa5118-fcb7-4e43-8fa8-de149cfb5aa4",
   "metadata": {},
   "outputs": [],
   "source": [
    "print (\"Hello World!\")"
   ]
  },
  {
   "cell_type": "markdown",
   "id": "655056bd-270c-4f9e-a67f-3b63abfa3419",
   "metadata": {},
   "source": [
    "- 문제번호 : 1000\n",
    "- 문제이름 : A + B\n",
    "\n",
    "- 알게 된 내용\n",
    "  - input() 함수는 입력 받은 값을 문자열로 반환함.\n",
    "  - 한 줄에 값을 입력받아 두 개 이상의 변수에 저장할 수 있음.\n",
    "  - split() 메소드를 사용하여 한 줄에 입력받은 값을 띄어쓰기로서 구분할 수 있음."
   ]
  },
  {
   "cell_type": "code",
   "execution_count": null,
   "id": "5c7a5202-872d-40e2-9d8c-8633f3bb6a1c",
   "metadata": {},
   "outputs": [],
   "source": [
    "a, b = input().split(\" \")\n",
    "print (int(a) + int(b))"
   ]
  },
  {
   "cell_type": "markdown",
   "id": "1799924a-ef8b-4892-9b7d-71da1370973a",
   "metadata": {},
   "source": [
    "- 문제번호 : 1001\n",
    "- 문제이름 : A - B"
   ]
  },
  {
   "cell_type": "code",
   "execution_count": null,
   "id": "9107846d-287d-4f01-bba1-2e6cbd7046f7",
   "metadata": {},
   "outputs": [],
   "source": [
    "a, b = input().split(\" \")\n",
    "print (int(a) - int(b))"
   ]
  },
  {
   "cell_type": "markdown",
   "id": "2735002a-37ab-44c2-8cd6-2a35108bf61d",
   "metadata": {},
   "source": [
    "- 문제번호 : 10098\n",
    "- 문제이름 : A X B"
   ]
  },
  {
   "cell_type": "code",
   "execution_count": null,
   "id": "1d903d66-c414-44ec-bbb8-fe3a1a4137dd",
   "metadata": {},
   "outputs": [],
   "source": [
    "a, b = input().split(\" \")\n",
    "print (int(a) * int(b))"
   ]
  },
  {
   "cell_type": "markdown",
   "id": "a3d3e929-c105-415e-acd7-9aa2a017129f",
   "metadata": {},
   "source": [
    "- 문제번호 : 1008\n",
    "- 문제이름 : A / B"
   ]
  },
  {
   "cell_type": "code",
   "execution_count": null,
   "id": "af8bfe08-ef79-45ee-a769-013e480b65d3",
   "metadata": {},
   "outputs": [],
   "source": [
    "a, b = input().split(\" \")\n",
    "print (int(a) / int(b))"
   ]
  },
  {
   "cell_type": "markdown",
   "id": "559e4922-d0e4-4b08-9582-b46cb1b2e858",
   "metadata": {},
   "source": [
    "- 문제번호 : 10869\n",
    "- 문제이름 : 사칙연산\n",
    "\n",
    "- 알게 된 내용\n",
    "  - \"//\" 연산자는 몫을 반환하는 연산자이다."
   ]
  },
  {
   "cell_type": "code",
   "execution_count": null,
   "id": "1be277d6-7f67-41e2-8af3-a267ecaecec1",
   "metadata": {},
   "outputs": [],
   "source": [
    "a, b = input().split(\" \")\n",
    "print (int(a) + int(b))\n",
    "print (int(a) - int(b))\n",
    "print (int(a) * int(b))\n",
    "print (int(a) // int(b))\n",
    "print (int(a) % int(b))"
   ]
  },
  {
   "cell_type": "markdown",
   "id": "7cad6081-4773-4848-92be-edef71f4f8ed",
   "metadata": {},
   "source": [
    "- 문제번호 : 10926\n",
    "- 문제이름 : ??!"
   ]
  },
  {
   "cell_type": "code",
   "execution_count": null,
   "id": "98d7fea3-a8ff-487b-90e4-a77e54065806",
   "metadata": {},
   "outputs": [],
   "source": [
    "uname = input()\n",
    "print (uname + \"??!\")"
   ]
  },
  {
   "cell_type": "markdown",
   "id": "9831f1a1-7648-4baf-8d82-3fdb63beb8c3",
   "metadata": {},
   "source": [
    "- 문제번호 : 18108\n",
    "- 문제이름 : 1998년생인 내가 태국에서는 2541년생?!"
   ]
  },
  {
   "cell_type": "code",
   "execution_count": null,
   "id": "ae9cf66c-75a9-4587-baca-7e16d5d7cd00",
   "metadata": {},
   "outputs": [],
   "source": [
    "year = int(input())\n",
    "print(year - 543)"
   ]
  },
  {
   "cell_type": "markdown",
   "id": "34b037ca-2d4a-4bef-936e-04d8ac65a997",
   "metadata": {},
   "source": [
    "- 문제번호 : 10430\n",
    "- 문제이름 : 나머지\n",
    "\n",
    "- 알게 된 내용\n",
    "  - 각 변수의 형 변환은 한 줄에서 처리할 수 있음."
   ]
  },
  {
   "cell_type": "code",
   "execution_count": null,
   "id": "54c05a95-9191-4cbf-9347-e968d385c53a",
   "metadata": {},
   "outputs": [],
   "source": [
    "A, B, C = input().split(\" \")\n",
    "\n",
    "A, B, C = int(A), int(B), int(C)\n",
    "\n",
    "print ((A+B)%C)\n",
    "print (((A%C) + (B%C))%C)\n",
    "print ((A*B)%C)\n",
    "print (((A%C) * (B%C))%C)"
   ]
  },
  {
   "cell_type": "markdown",
   "id": "8b3aaa81-57f9-4094-b7b9-a4ba13eba019",
   "metadata": {},
   "source": [
    "- 문제번호 : 2588\n",
    "- 문제이름 : 곱셈"
   ]
  },
  {
   "cell_type": "code",
   "execution_count": null,
   "id": "dfcbaadb-94a9-4b79-8a6c-5c67d0b1bc8e",
   "metadata": {},
   "outputs": [],
   "source": [
    "a = int(input())\n",
    "b = input()\n",
    "\n",
    "for i in range(len(b)-1, -1, -1):\n",
    "    print(a * int(b[i]))\n",
    "print(a * int(b))"
   ]
  },
  {
   "cell_type": "markdown",
   "id": "cef0d94e-21cb-4fa7-a2cf-5c3e6da72a54",
   "metadata": {},
   "source": [
    "- 문제번호 : 11382\n",
    "- 문제이름 : 꼬마 정민"
   ]
  },
  {
   "cell_type": "code",
   "execution_count": null,
   "id": "c1ef69d2-8184-48bc-ae40-6f4f23af080e",
   "metadata": {},
   "outputs": [],
   "source": [
    "a, b, c = input().split(\" \")\n",
    "a, b, c = int(a), int(b), int(c)\n",
    "\n",
    "print(a+b+c)"
   ]
  },
  {
   "cell_type": "markdown",
   "id": "a55d594e-58d4-4b7e-87ae-2a8d994b0132",
   "metadata": {},
   "source": [
    "- 문제번호 : 10171\n",
    "- 문제이름 : 고양이"
   ]
  },
  {
   "cell_type": "code",
   "execution_count": null,
   "id": "b02a0eb9-799c-41c0-9f2f-3c4893a2dabc",
   "metadata": {},
   "outputs": [],
   "source": [
    "print(\"\\\\    /\\\\\")\n",
    "print(\" )  ( ')\")\n",
    "print(\"(  /  )\")\n",
    "print(\" \\\\(__)|\")"
   ]
  },
  {
   "cell_type": "markdown",
   "id": "327d5862-4b40-44a9-ab23-c2183bbb8e7d",
   "metadata": {},
   "source": [
    "- 문제번호 : 10172\n",
    "- 문제이름 : 개"
   ]
  },
  {
   "cell_type": "code",
   "execution_count": null,
   "id": "70f19bd1-b34f-4a09-98aa-e175723dd904",
   "metadata": {},
   "outputs": [],
   "source": [
    "print(\"|\\\\_/|\")\n",
    "print(\"|q p|   /}\")\n",
    "print('( 0 )\"\"\"\\\\')\n",
    "print('|\"^\"`    |')\n",
    "print(\"||_/=\\\\\\\\__|\")"
   ]
  }
 ],
 "metadata": {
  "kernelspec": {
   "display_name": "Python 3 (ipykernel)",
   "language": "python",
   "name": "python3"
  },
  "language_info": {
   "codemirror_mode": {
    "name": "ipython",
    "version": 3
   },
   "file_extension": ".py",
   "mimetype": "text/x-python",
   "name": "python",
   "nbconvert_exporter": "python",
   "pygments_lexer": "ipython3",
   "version": "3.9.13"
  }
 },
 "nbformat": 4,
 "nbformat_minor": 5
}
