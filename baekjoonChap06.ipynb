{
 "cells": [
  {
   "cell_type": "markdown",
   "metadata": {},
   "source": [
    "- 문제번호: 25083\n",
    "- 문제이름: 새싹"
   ]
  },
  {
   "cell_type": "code",
   "execution_count": null,
   "metadata": {},
   "outputs": [],
   "source": [
    "print(\"         ,r'\\\"7\")\n",
    "print(\"r`-_   ,'  ,/\")\n",
    "print(\" \\\\. \\\". L_r'\")\n",
    "print(\"   `~\\\\/\")\n",
    "print(\"      |\")\n",
    "print(\"      |\")"
   ]
  },
  {
   "cell_type": "markdown",
   "metadata": {},
   "source": [
    "- 문제번호: 3003\n",
    "- 문제이름: 킹, 퀸, 룩, 비숍, 나이트, 폰\n",
    "- 오답 사유\n",
    "  - 빼야하는 경우에 대한 처리 미흡\n",
    "- 알게 된 내용\n",
    "  - abs() 함수는 math 패키지에서 지원하는 절대값 반환 함수이다."
   ]
  },
  {
   "cell_type": "code",
   "execution_count": null,
   "metadata": {},
   "outputs": [],
   "source": [
    "pieces = [1,1,2,2,2,8]\n",
    "mypieces = input().split()\n",
    "mypieces = [int(i) for i in mypieces]\n",
    "\n",
    "for i, j in zip(pieces, mypieces):\n",
    "    print(i-j, end=\" \")"
   ]
  },
  {
   "cell_type": "markdown",
   "metadata": {},
   "source": [
    "- 문제번호: 2444\n",
    "- 문제이름: 별 찍기 - 7\n",
    "- 알게 된 내용\n",
    "  - 별 찍기 연습 필요!"
   ]
  },
  {
   "cell_type": "code",
   "execution_count": null,
   "metadata": {},
   "outputs": [],
   "source": [
    "num = int(input())\n",
    "\n",
    "for i in range(1, num+1):\n",
    "    for j in range(num, i, -1):\n",
    "        print(\" \", end=\"\")\n",
    "    print(\"*\" * ((i*2)-1), end = \"\")\n",
    "    print(\"\")\n",
    "\n",
    "for l in range(1, num):\n",
    "    for m in range(1, l+1):\n",
    "        print(\" \", end=\"\")\n",
    "    print(\"*\" * (((num-l)*2)-1), end=\"\")\n",
    "    print(\"\")\n"
   ]
  },
  {
   "cell_type": "markdown",
   "metadata": {},
   "source": [
    "- 문제번호: 10988\n",
    "- 문제이름: 팰린드롬인지 확인하기"
   ]
  },
  {
   "cell_type": "code",
   "execution_count": null,
   "metadata": {},
   "outputs": [],
   "source": [
    "S = input()\n",
    "SRev=\"\"\n",
    "\n",
    "for i in range(len(S)-1, -1, -1):\n",
    "    SRev += S[i]\n",
    "\n",
    "if S == SRev:\n",
    "    print(1)\n",
    "\n",
    "else:\n",
    "    print(0)"
   ]
  },
  {
   "cell_type": "markdown",
   "metadata": {},
   "source": [
    "- 문제번호: 1157\n",
    "- 문제이름: 단어 공부\n",
    "- 오답 사유\n",
    "  - Counter() 이해 부족 및 사용 미숙\n",
    "- 알게 된 내용\n",
    "  - most_common() 함수는 Collection 패키지에서 제공하는 최빈값을 구하는 함수이다.\n",
    "  - most_common() 함수를 사용하기 위해서는 Counter 타입을 가지고 사용할 수 있다.\n",
    "  - 최빈값이 하나인 경우 'most_common(2)'를 호출해도 하나만 반환됨.\n",
    "  - .upper() 메소드는 문자열을 대문자로 바꿔 반환해주는 메소드이다."
   ]
  },
  {
   "cell_type": "code",
   "execution_count": null,
   "metadata": {},
   "outputs": [],
   "source": [
    "from collections import Counter\n",
    "\n",
    "S = Counter(input().upper())\n",
    "\n",
    "if len(S.most_common(2)) > 1 and list(S.most_common(2))[0][1] == list(S.most_common(2))[1][1]:\n",
    "        print(\"?\")\n",
    "\n",
    "else:\n",
    "    print(list(S.most_common(2))[0][0].upper())\n"
   ]
  },
  {
   "cell_type": "markdown",
   "metadata": {},
   "source": [
    "- 문제번호: 2941\n",
    "- 문제이름: 크로아티아 알파벳\n",
    "- 오답 사유\n",
    "  - 문제 접근 방법 오류\n",
    "- 알게 된 내용\n",
    "  - 문자열 간 빼기 연산은 수행될 수 없음.\n",
    "  - .replace() 메소드는 소괄호 내 문자열을 소괄호 내 다른 문자열로 변환하는 메소드임."
   ]
  },
  {
   "cell_type": "code",
   "execution_count": null,
   "metadata": {},
   "outputs": [],
   "source": [
    "croList = [\"c=\", \"c-\", \"dz=\", \"d-\", \"lj\", \"nj\", \"s=\", \"z=\"]\n",
    "\n",
    "S = input()\n",
    "\n",
    "for i in croList:\n",
    "    S = S.replace(i, \"*\")\n",
    "\n",
    "print(len(S))"
   ]
  },
  {
   "cell_type": "markdown",
   "metadata": {},
   "source": [
    "- 문제번호: 1316\n",
    "- 문제이름: 그룹 단어 체크\n",
    "- 오답 사유\n",
    "  - 문제 이해 부족\n",
    "  - 구현 원리 설계 미흡\n",
    "- 알게 된 내용\n",
    "  - 문제에서 요구하는 조건의 반례를 우선 판단하기!\n",
    "- 구현 원리\n",
    "  - 같은 단어가 떨어져 위치해있으면 그룹 단어가 아니다!!\n",
    "  - 같은 단어가 아니라면,\n",
    "    - 비교한 다음 위치부터 끝까지의 문자열에 S[i] 문자가 있으면,\n",
    "      - 그룹 단어 아님!!!! "
   ]
  },
  {
   "cell_type": "code",
   "execution_count": null,
   "metadata": {},
   "outputs": [],
   "source": [
    "T = int(input())\n",
    "count = 0\n",
    "\n",
    "for _ in range(T):\n",
    "    S = input()\n",
    "\n",
    "    for i in range(len(S)-1):\n",
    "        # 다르다는 것은 앞에 같은 상황을 넘어온 것!\n",
    "        if S[i] != S[i+1]:\n",
    "            # 같은 단어가 이후에 존재하는지 확인하기 위해 따로 저장!\n",
    "            new = S[i+2:]\n",
    "            # 만일 S[i]가 S[i+2]부터 그 이후에 존재할 경우\n",
    "            if S[i] in new:\n",
    "                # 그룹 단어가 아님!\n",
    "                count -= 1\n",
    "                break\n",
    "    count += 1\n",
    "\n",
    "print(count)"
   ]
  },
  {
   "cell_type": "markdown",
   "metadata": {},
   "source": [
    "- 문제번호: 25206\n",
    "- 문제이름: 너의 평점은"
   ]
  },
  {
   "cell_type": "code",
   "execution_count": null,
   "metadata": {},
   "outputs": [],
   "source": [
    "GPA = {'A+':4.5, 'A0':4.0, 'B+':3.5, 'B0':3.0, 'C+':2.5, 'C0':2.0, 'D+':1.5, 'D0':1.0,'F':0.0}\n",
    "total = 0.0\n",
    "attend = 0.0\n",
    "\n",
    "for _ in range(20):\n",
    "    subject, credit, score = input().split()\n",
    "    if score == 'P':\n",
    "        continue\n",
    "    else:\n",
    "        total += (GPA[score] * float(credit))\n",
    "        attend += float(credit)\n",
    "\n",
    "print(total / attend)"
   ]
  }
 ],
 "metadata": {
  "kernelspec": {
   "display_name": "base",
   "language": "python",
   "name": "python3"
  },
  "language_info": {
   "codemirror_mode": {
    "name": "ipython",
    "version": 3
   },
   "file_extension": ".py",
   "mimetype": "text/x-python",
   "name": "python",
   "nbconvert_exporter": "python",
   "pygments_lexer": "ipython3",
   "version": "3.9.13"
  }
 },
 "nbformat": 4,
 "nbformat_minor": 2
}
