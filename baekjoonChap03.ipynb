{
 "cells": [
  {
   "cell_type": "markdown",
   "id": "cb3f4d3b-5fac-47b1-bf9f-f3ec009df7f6",
   "metadata": {},
   "source": [
    "- 문제번호 : 2739\n",
    "- 문제이름 : 구구단"
   ]
  },
  {
   "cell_type": "code",
   "execution_count": null,
   "id": "357949f0-c5b4-4c83-ae20-eaa342623d0e",
   "metadata": {},
   "outputs": [],
   "source": [
    "num = int(input())\n",
    "\n",
    "for i in range(1, 10):\n",
    "    print(str(num) + \" * \" + str(i) + \" = \" + str(num * i))"
   ]
  },
  {
   "cell_type": "markdown",
   "id": "c774b50b-4e64-4965-86b7-def2c8c479f1",
   "metadata": {},
   "source": [
    "- 문제번호 : 10950\n",
    "- 문제이름 : A+B - 3\n",
    "- 알게 된 내용\n",
    "  - 여러 변수 값을 한 줄에 입력받아 한번에 형 변환하는 방법\n",
    "    [변수명1], [변수명2] = map([변환 할 타입], input().split([구분자]))"
   ]
  },
  {
   "cell_type": "code",
   "execution_count": null,
   "id": "b25ff7bc-b24b-4f29-886d-55bab4040123",
   "metadata": {},
   "outputs": [],
   "source": [
    "T = int(input())\n",
    "\n",
    "for i in range(T):\n",
    "    a, b = map(int, input().split())\n",
    "    print(a + b)"
   ]
  },
  {
   "cell_type": "markdown",
   "id": "768dad74-ef16-4f36-ad0f-7120bbf7885d",
   "metadata": {},
   "source": [
    "- 문제번호 : 8393\n",
    "- 문제이름 : 합\n",
    "- 알게 된 내용\n",
    "  - 변수 사용 전 초기화를 왠만하면 해주자."
   ]
  },
  {
   "cell_type": "code",
   "execution_count": null,
   "id": "131bc6a6-a8c5-4ebb-b3d1-e2a684a40bb2",
   "metadata": {},
   "outputs": [],
   "source": [
    "num = int(input())\n",
    "sum = 0\n",
    "\n",
    "for i in range(1, (num + 1)):\n",
    "    sum += i\n",
    "\n",
    "print(sum)"
   ]
  },
  {
   "cell_type": "markdown",
   "id": "6169975c-f3b7-44cc-866a-f095042ee187",
   "metadata": {},
   "source": [
    "- 문제번호 : 25304\n",
    "- 문제이름 : 영수증"
   ]
  },
  {
   "cell_type": "code",
   "execution_count": null,
   "id": "d25de2ea-1d9f-4f50-bfda-d35375022d56",
   "metadata": {},
   "outputs": [],
   "source": [
    "total = int(input())\n",
    "T = int(input())\n",
    "sum = 0\n",
    "\n",
    "for i in range(T):\n",
    "   price, ea = map(int, input().split())\n",
    "   sum += (price * ea)\n",
    "\n",
    "if total == sum:\n",
    "    print(\"Yes\")\n",
    "else:\n",
    "    print(\"No\")"
   ]
  },
  {
   "cell_type": "markdown",
   "id": "fbe591da-327b-4f5b-9ed7-ad70bd85aca4",
   "metadata": {},
   "source": [
    "- 문제번호 : 25314\n",
    "- 문제이름 : 코딩은 체육과목 입니다"
   ]
  },
  {
   "cell_type": "code",
   "execution_count": null,
   "id": "4c281440-5c4d-4036-b58a-e30b1299a436",
   "metadata": {},
   "outputs": [],
   "source": [
    "num = int(input())\n",
    "\n",
    "print((\"long \" * (num // 4)) + \"int\")"
   ]
  },
  {
   "cell_type": "markdown",
   "id": "6ef18f52-0d70-4f7a-914d-f047d43e39ca",
   "metadata": {},
   "source": [
    "- 문제번호 : 15552\n",
    "- 문제이름 : 빠른 A+B\n",
    "- 오답 사유\n",
    "  - sys.stdin.readline()에 대한 이해 부족\n",
    "\n",
    "- 알게 된 내용\n",
    "  - sys.stdin.readline()\n",
    "    - input() 함수와 같이 Python에서 입력 받는 함수이다.\n",
    "    - sys 패키지에 내장되어 있으며, 사용을 원할 경우 \"import sys\"를 명시해주어야 함.\n",
    "    - JAVA에서 Scanner 함수를 대입 선언하는 방식으로 사용해야함.\n",
    "    - 입력받을 때 개행문자('\\n')까지 입력받음에 주의\n",
    "    - 특히 아나콘다 환경에서는 사용 시 오류나는 문제 있음에 주의\n",
    "      ※ 오류내용\n",
    "         ValueError: invalid literal for int() with base 10: ''\n",
    "      ※ 오류 참고글\n",
    "         - https://www.acmicpc.net/board/view/88537\n",
    "         - https://danakkii.tistory.com/5\n",
    "\n",
    "- rstrip() 메소드는 우측 공백을 삭제해주는 메소드이다."
   ]
  },
  {
   "cell_type": "code",
   "execution_count": null,
   "id": "a2efd45d-ad09-4eeb-8820-89269ecf76f7",
   "metadata": {},
   "outputs": [],
   "source": [
    "import sys\n",
    "\n",
    "T = int(input())\n",
    "\n",
    "for i in range(T):\n",
    "    a, b = map(int, sys.stdin.readline().rstrip().split())\n",
    "    print(a + b)"
   ]
  },
  {
   "cell_type": "markdown",
   "id": "7f1d46c7-5416-4a85-95ad-3b2530ff4358",
   "metadata": {},
   "source": [
    "- 문제번호 : 11021\n",
    "- 문제이름 : A+B - 7"
   ]
  },
  {
   "cell_type": "code",
   "execution_count": null,
   "id": "67053066-fcda-4d4b-bbb7-784a9a662fca",
   "metadata": {},
   "outputs": [],
   "source": [
    "T = int(input())\n",
    "\n",
    "for i in range(T):\n",
    "    a, b = map(int, input().split())\n",
    "    print(\"Case #\" + str(i + 1) + \": \" + str(a + b))"
   ]
  },
  {
   "cell_type": "markdown",
   "id": "f8aac97d-db19-4fed-85f4-f8228046b883",
   "metadata": {},
   "source": [
    "- 문제번호 : 11022\n",
    "- 문제이름 : A+B - 8"
   ]
  },
  {
   "cell_type": "code",
   "execution_count": null,
   "id": "610c7885-6300-4715-8542-8e73e225eb95",
   "metadata": {},
   "outputs": [],
   "source": [
    "T = int(input())\n",
    "\n",
    "for i in range(T):\n",
    "    a, b = map(int, input().split())\n",
    "    print(\"Case #\" + str(i + 1) + \": \" + str(a) + \" + \" + str(b) + \" = \" + str(a + b))"
   ]
  },
  {
   "cell_type": "markdown",
   "id": "e8ce1410-a929-4a5c-82a1-11c8f5a2ee80",
   "metadata": {},
   "source": [
    "- 문제번호 : 2438\n",
    "- 문제이름 : 별 찍기 - 1\n",
    "- 오답 사유\n",
    "  - 선언한 변수명을 사용하지 않음."
   ]
  },
  {
   "cell_type": "code",
   "execution_count": null,
   "id": "2dbfb42f-3f53-4666-8a1c-642137106faa",
   "metadata": {},
   "outputs": [],
   "source": [
    "T = int(input())\n",
    "\n",
    "for i in range(1, T+1):\n",
    "    print(\"*\" * i)"
   ]
  },
  {
   "cell_type": "markdown",
   "id": "a9177956-4283-485c-aadc-03358fc02f48",
   "metadata": {},
   "source": [
    "- 문제번호 : 2439\n",
    "- 문제이름 : 별 찍기 - 2\n",
    "- 오답 사유\n",
    "  - 문제 접근 방법이 복잡했음.\n",
    "  - 출력 원리 판단 오류.\n",
    "  - 불필요한 숫자 고정 처리\n",
    "- 알게 된 내용\n",
    "  - print() 함수에서 end 옵션의 기본값은 개행 문자('\\n')이며, 이를 \"\"로 설정하여 개행없이 출력할 수 있음."
   ]
  },
  {
   "cell_type": "code",
   "execution_count": null,
   "id": "b2d9fb9f-f9e3-4144-bf89-86b7f9006541",
   "metadata": {},
   "outputs": [],
   "source": [
    "T = int(input())\n",
    "\n",
    "for i in range(1, T+1):\n",
    "    print(\" \" * (T-i) + \"*\" * i)"
   ]
  },
  {
   "cell_type": "markdown",
   "id": "ce330598",
   "metadata": {},
   "source": [
    "- 문제번호 : 10952\n",
    "- 문제이름 : A+B - 5"
   ]
  },
  {
   "cell_type": "code",
   "execution_count": null,
   "id": "1d8d9e05",
   "metadata": {},
   "outputs": [],
   "source": [
    "while True:\n",
    "    a, b = map(int, input().split())\n",
    "    if a == 0 and b == 0:\n",
    "        break\n",
    "    else:\n",
    "        print(a + b)"
   ]
  },
  {
   "cell_type": "markdown",
   "id": "e07d98a1",
   "metadata": {},
   "source": [
    "- 문제번호 : 10951\n",
    "- 문제이름 : A+B - 4\n",
    "- 오답 사유\n",
    "  - 접근 방법 오류\n",
    "  - 엔터 종료 구현 방법에 대한 이해 부족\n",
    "  - 예외 처리에 대한 이해 부족\n",
    "- 알게 된 내용\n",
    "  - 입력받을 때 엔터 종료를 구현하고 싶다면, 공백 입력 시 종료되는 조건을 추가하면 됨.\n",
    "  - 'try: ~ except:' 구문으로 예외처리를 할 수 있음."
   ]
  },
  {
   "cell_type": "code",
   "execution_count": null,
   "id": "2f8b5013",
   "metadata": {},
   "outputs": [],
   "source": [
    "while True:\n",
    "    try:\n",
    "        a, b = map(int, input().split())\n",
    "        print(a + b)\n",
    "    except:\n",
    "        break"
   ]
  }
 ],
 "metadata": {
  "kernelspec": {
   "display_name": "Python 3",
   "language": "python",
   "name": "python3"
  },
  "language_info": {
   "codemirror_mode": {
    "name": "ipython",
    "version": 3
   },
   "file_extension": ".py",
   "mimetype": "text/x-python",
   "name": "python",
   "nbconvert_exporter": "python",
   "pygments_lexer": "ipython3",
   "version": "3.9.13"
  }
 },
 "nbformat": 4,
 "nbformat_minor": 5
}
