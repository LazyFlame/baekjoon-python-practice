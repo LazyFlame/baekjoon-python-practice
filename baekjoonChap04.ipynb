{
 "cells": [
  {
   "cell_type": "markdown",
   "metadata": {},
   "source": [
    "- 문제 번호: 10807\n",
    "- 문제 이름: 개수 세기\n",
    "- 알게 된 내용\n",
    "  - 리스트 선언 시 반복문을 사용해서 값을 초기화할 수 있음.\n",
    "  - 한 줄에 여러 값을 입력받은 후 하나의 변수에 대입 연산을 수행하면 리스트로 저장됨.\n",
    "  - 리스트에서 .count() 메소드를 사용하면 소괄호 내 값이 리스트에 몇 개 존재하는지 반환함.\n",
    "  - map() 함수를 리스트로 감싸면 해당 변수는 리스트로 저장됨."
   ]
  },
  {
   "cell_type": "code",
   "execution_count": null,
   "metadata": {},
   "outputs": [],
   "source": [
    "num = int(input())\n",
    "\n",
    "nums = [0 for i in range(num)]\n",
    "\n",
    "nums = input().split()\n",
    "\n",
    "nums = [int(i) for i in nums]\n",
    "\n",
    "searchVal = int(input())\n",
    "\n",
    "print(nums.count(searchVal))"
   ]
  },
  {
   "cell_type": "markdown",
   "metadata": {},
   "source": [
    "- 문제 번호: 10871\n",
    "- 문제 이름: X보다 작은 수"
   ]
  },
  {
   "cell_type": "code",
   "execution_count": null,
   "metadata": {},
   "outputs": [],
   "source": [
    "size, num = map(int, input().split())\n",
    "\n",
    "nums = input().split()\n",
    "nums = [int(i) for i in nums]\n",
    "\n",
    "for i in nums:\n",
    "    if i < num:\n",
    "        print(i, end=\" \")"
   ]
  },
  {
   "cell_type": "markdown",
   "metadata": {},
   "source": [
    "- 문제 번호: 10818\n",
    "- 문제 이름: 최소, 최대\n",
    "- 알게 된 내용\n",
    "  - min(), max() 함수를 사용하면 최솟값과 최대값을 찾을 수 있음."
   ]
  },
  {
   "cell_type": "code",
   "execution_count": null,
   "metadata": {},
   "outputs": [],
   "source": [
    "size = int(input())\n",
    "\n",
    "nums = input().split()\n",
    "nums = [int(i) for i in nums]\n",
    "\n",
    "print(min(nums), max(nums))"
   ]
  },
  {
   "cell_type": "markdown",
   "metadata": {},
   "source": [
    "- 문제 번호: 2562\n",
    "- 문제 이름: 최댓값\n",
    "- 알게 된 내용\n",
    "  - 리스트에서 .append() 메소드를 사용하면 데이터를 삽입할 수 있음."
   ]
  },
  {
   "cell_type": "code",
   "execution_count": null,
   "metadata": {},
   "outputs": [],
   "source": [
    "nums = []\n",
    "for i in range(9):\n",
    "    nums.append(int(input()))\n",
    "\n",
    "print(max(nums))\n",
    "print(nums.index(max(nums)) + 1)"
   ]
  },
  {
   "cell_type": "markdown",
   "metadata": {},
   "source": [
    "- 문제 번호: 10810\n",
    "- 문제 이름: 공 넣기\n",
    "- 오답 사유\n",
    "  - 문제 이해 부족\n",
    "    - 마지막으로 넣은 공의 번호를 저장하여야 함.\n",
    "  - 출력 조건 확인 미흡"
   ]
  },
  {
   "cell_type": "code",
   "execution_count": null,
   "metadata": {},
   "outputs": [],
   "source": [
    "n, m = map(int, input().split())\n",
    "bucket = [0 for i in range(n)]\n",
    "\n",
    "for _ in range(m):\n",
    "    i, j, k = map(int, input().split())\n",
    "    for l in range(i-1, j):\n",
    "        bucket[l] = k\n",
    "\n",
    "for o in bucket:\n",
    "    print(o, end=\" \")"
   ]
  },
  {
   "cell_type": "markdown",
   "metadata": {},
   "source": [
    "- 문제 번호: 10813\n",
    "- 문제 이름: 공 바꾸기\n",
    "- 알게 된 내용\n",
    "    - 두 값을 변경할 때, 'a, b = b, a' 형태로 처리할 수 있음."
   ]
  },
  {
   "cell_type": "code",
   "execution_count": null,
   "metadata": {},
   "outputs": [],
   "source": [
    "n, m = map(int, input().split())\n",
    "bucket = [i for i in range(1, n+1)]\n",
    "\n",
    "for _ in range(m):\n",
    "    i, j = map(int, input().split())\n",
    "    bucket[i-1], bucket[j-1] = bucket[j-1], bucket[i-1]\n",
    "\n",
    "for k in bucket:\n",
    "    print(k, end=\" \")\n"
   ]
  },
  {
   "cell_type": "markdown",
   "metadata": {},
   "source": [
    "- 문제 번호: 5597\n",
    "- 문제 이름: 과제 안 내신 분..?"
   ]
  },
  {
   "cell_type": "code",
   "execution_count": null,
   "metadata": {},
   "outputs": [],
   "source": [
    "students = [0 for _ in range(30)]\n",
    "\n",
    "for _ in range(28):\n",
    "    num = int(input())\n",
    "    students[num-1] = 1\n",
    "\n",
    "for i in range(len(students)):\n",
    "    if students[i] == 0:\n",
    "        print(i+1)\n",
    "\n"
   ]
  },
  {
   "cell_type": "markdown",
   "metadata": {},
   "source": [
    "- 문제 번호: 3052\n",
    "- 문제 이름: 나머지\n",
    "- 알게 된 내용\n",
    "  - set 타입은 데이터의 중복을 허용하지 않음."
   ]
  },
  {
   "cell_type": "code",
   "execution_count": null,
   "metadata": {},
   "outputs": [],
   "source": [
    "nums = []\n",
    "\n",
    "for _ in range(10):\n",
    "    num = int(input())\n",
    "    nums.append(num)\n",
    "\n",
    "for j in range(len(nums)):\n",
    "    nums[j] = nums[j] % 42\n",
    "\n",
    "print(len(set(nums)))"
   ]
  },
  {
   "cell_type": "markdown",
   "metadata": {},
   "source": [
    "- 문제 번호: 10811\n",
    "- 문제 이름: 바구니 뒤집기"
   ]
  },
  {
   "cell_type": "code",
   "execution_count": null,
   "metadata": {},
   "outputs": [],
   "source": [
    "n, m = map(int, input().split())\n",
    "\n",
    "bucket = [i for i in range(1, n+1)]\n",
    "\n",
    "iter = 0\n",
    "\n",
    "for _ in range(m):\n",
    "    i, j = map(int, input().split())\n",
    "    temp = bucket[i-1:j]\n",
    "    temp.reverse()\n",
    "\n",
    "    for k in range(i-1, j):\n",
    "        bucket[k] = temp[iter]\n",
    "        iter += 1\n",
    "    \n",
    "    iter = 0\n",
    "    temp.clear()\n",
    "\n",
    "for l in bucket:\n",
    "    print(l, end=\" \")\n",
    "\n"
   ]
  },
  {
   "cell_type": "markdown",
   "metadata": {},
   "source": [
    "- 문제 번호: 1546\n",
    "- 문제 이름: 평균"
   ]
  },
  {
   "cell_type": "code",
   "execution_count": null,
   "metadata": {},
   "outputs": [],
   "source": [
    "subjects = int(input())\n",
    "\n",
    "score = input().split()\n",
    "score = [int(i) for i in score]\n",
    "\n",
    "maxScore = max(score)\n",
    "\n",
    "for i in range(len(score)):\n",
    "    score[i] = score[i] / maxScore * 100\n",
    "\n",
    "print(sum(score) / len(score))"
   ]
  }
 ],
 "metadata": {
  "kernelspec": {
   "display_name": "base",
   "language": "python",
   "name": "python3"
  },
  "language_info": {
   "codemirror_mode": {
    "name": "ipython",
    "version": 3
   },
   "file_extension": ".py",
   "mimetype": "text/x-python",
   "name": "python",
   "nbconvert_exporter": "python",
   "pygments_lexer": "ipython3",
   "version": "3.9.13"
  }
 },
 "nbformat": 4,
 "nbformat_minor": 2
}
