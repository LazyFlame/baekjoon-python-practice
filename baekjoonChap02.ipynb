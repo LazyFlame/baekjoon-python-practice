{
 "cells": [
  {
   "cell_type": "markdown",
   "id": "a28bf180-d504-4af2-84dc-d1bbe32b4341",
   "metadata": {},
   "source": [
    "- 문제번호 : 1330\n",
    "- 문제이름 : 두 수 비교하기"
   ]
  },
  {
   "cell_type": "code",
   "execution_count": null,
   "id": "7f7b74b6-98e1-4e3f-b642-9a23994d070c",
   "metadata": {},
   "outputs": [],
   "source": [
    "a, b = input().split(\" \")\n",
    "a, b = int(a), int(b)\n",
    "\n",
    "if a == b:\n",
    "    print(\"==\")\n",
    "elif a < b:\n",
    "    print(\"<\")\n",
    "else:\n",
    "    print(\">\")"
   ]
  },
  {
   "cell_type": "markdown",
   "id": "7b2d2b06-c33e-4292-ad1e-5d2124099794",
   "metadata": {},
   "source": [
    "- 문제번호 : 9498\n",
    "- 문제이름 : 시험 성적"
   ]
  },
  {
   "cell_type": "code",
   "execution_count": null,
   "id": "a17a8b94-44d0-411a-a7e3-38c84eb5f5a6",
   "metadata": {},
   "outputs": [],
   "source": [
    "score = int(input())\n",
    "\n",
    "if 90 <= score:\n",
    "    print(\"A\")\n",
    "elif 80 <= score:\n",
    "    print(\"B\")\n",
    "elif 70 <= score:\n",
    "    print(\"C\")\n",
    "elif 60 <= score:\n",
    "    print(\"D\")\n",
    "else:\n",
    "    print(\"F\")"
   ]
  },
  {
   "cell_type": "markdown",
   "id": "0698be3c-509c-4c8d-b4f5-ebd55b12bb9f",
   "metadata": {},
   "source": [
    "- 문제번호 : 2753\n",
    "- 문제이름 : 윤년"
   ]
  },
  {
   "cell_type": "code",
   "execution_count": null,
   "id": "a57f4657-910c-404b-ab19-e771211c1137",
   "metadata": {},
   "outputs": [],
   "source": [
    "year = int(input())\n",
    "\n",
    "if (year % 4 == 0):\n",
    "    if (year % 100 != 0) or (year % 400 == 0):\n",
    "        print(1)\n",
    "    else:\n",
    "        print(0)\n",
    "\n",
    "else:\n",
    "    print(0)"
   ]
  },
  {
   "cell_type": "markdown",
   "id": "e9194771-91b2-48e2-ad40-243e6512f4e8",
   "metadata": {},
   "source": [
    "- 문제번호 : 14681\n",
    "- 문제이름 : 사분면 고르기"
   ]
  },
  {
   "cell_type": "code",
   "execution_count": null,
   "id": "29255fa9-2baa-4f7e-b2e5-ee97518b0dd0",
   "metadata": {},
   "outputs": [],
   "source": [
    "x = int(input())\n",
    "y = int(input())\n",
    "\n",
    "if x > 0:\n",
    "    if y > 0:\n",
    "        print(1)\n",
    "    else:\n",
    "        print(4)\n",
    "\n",
    "else:\n",
    "    if y > 0:\n",
    "        print(2)\n",
    "    else:\n",
    "        print(3)"
   ]
  },
  {
   "cell_type": "markdown",
   "id": "f4e79ff8-b849-41e5-861c-9a7618b841dd",
   "metadata": {},
   "source": [
    "- 문제번호 : 2884\n",
    "- 문제이름 : 알람 시계\n",
    "\n",
    "- 오답 사유\n",
    "  - 분이 음수가 되지 않을 경우에 대한 처리 누락"
   ]
  },
  {
   "cell_type": "code",
   "execution_count": null,
   "id": "cee28976-ec38-4c10-985f-3a7a5dec8c36",
   "metadata": {},
   "outputs": [],
   "source": [
    "h, m = input().split(\" \")\n",
    "h, m = int(h), int(m)\n",
    "\n",
    "if (m-45) < 0:\n",
    "    h -= 1\n",
    "    m = 60 + (m - 45)\n",
    "    \n",
    "    if h < 0:\n",
    "        h = 24 + h\n",
    "\n",
    "else:\n",
    "    m -= 45\n",
    "\n",
    "print(h, m)"
   ]
  },
  {
   "cell_type": "markdown",
   "id": "1184b832-8c3e-49eb-bcb9-4b8a0edceaf5",
   "metadata": {},
   "source": [
    "- 문제번호 : 2525\n",
    "- 문제이름 : 오븐 시계"
   ]
  },
  {
   "cell_type": "code",
   "execution_count": null,
   "id": "92290526-88d3-47a6-b797-3cb33c178ab3",
   "metadata": {},
   "outputs": [],
   "source": [
    "h, m = input().split(\" \")\n",
    "h, m = int(h), int(m)\n",
    "\n",
    "t = int(input())\n",
    "\n",
    "h = h + ((m + t) // 60)\n",
    "m = (m + t) % 60\n",
    "\n",
    "if h > 23:\n",
    "    h = h - 24\n",
    "\n",
    "print(h, m)"
   ]
  },
  {
   "cell_type": "markdown",
   "id": "f93c7f64-bd0e-4aaa-a246-2a370693d812",
   "metadata": {},
   "source": [
    "- 문제번호 : 2480\n",
    "- 문제이름 : 주사위 세개\n",
    "\n",
    "- 알게 된 내용\n",
    "  - 비교 연산자는 3개 이상의 변수 간 비교도 가능함."
   ]
  },
  {
   "cell_type": "code",
   "execution_count": null,
   "id": "5c244675-0820-4a16-994d-7468a768be2d",
   "metadata": {},
   "outputs": [],
   "source": [
    "d1, d2, d3 = input().split(\" \")\n",
    "d1, d2, d3 = int(d1), int(d2), int(d3)\n",
    "\n",
    "price = 0\n",
    "\n",
    "if d1 == d2 == d3:\n",
    "    price = 10000 + d1 * 1000\n",
    "elif d1 == d2 or d1 == d3:\n",
    "    price = 1000 + d1 * 100\n",
    "elif d2 == d3:\n",
    "    price = 1000 + d2 * 100\n",
    "else:\n",
    "    price = max(d1, d2, d3) * 100\n",
    "\n",
    "print(price)"
   ]
  }
 ],
 "metadata": {
  "kernelspec": {
   "display_name": "Python 3 (ipykernel)",
   "language": "python",
   "name": "python3"
  },
  "language_info": {
   "codemirror_mode": {
    "name": "ipython",
    "version": 3
   },
   "file_extension": ".py",
   "mimetype": "text/x-python",
   "name": "python",
   "nbconvert_exporter": "python",
   "pygments_lexer": "ipython3",
   "version": "3.9.13"
  }
 },
 "nbformat": 4,
 "nbformat_minor": 5
}
