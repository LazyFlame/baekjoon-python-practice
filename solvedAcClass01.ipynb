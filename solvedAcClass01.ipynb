{
 "cells": [
  {
   "cell_type": "markdown",
   "metadata": {},
   "source": [
    "- 문제번호: 31403\n",
    "- 문제이름: A + B - C"
   ]
  },
  {
   "cell_type": "code",
   "execution_count": null,
   "metadata": {},
   "outputs": [],
   "source": [
    "A = int(input())\n",
    "B = int(input())\n",
    "C = int(input())\n",
    "\n",
    "print(A + B - C)\n",
    "print(int(str(A)+str(B)) - C)"
   ]
  },
  {
   "cell_type": "markdown",
   "metadata": {},
   "source": [
    "- 문제번호: 10250\n",
    "- 문제이름: ACM 호텔\n",
    "- 오답 사유\n",
    "  - 'N % H'가 0이 될 경우를 고려하지 않음."
   ]
  },
  {
   "cell_type": "code",
   "execution_count": null,
   "metadata": {},
   "outputs": [],
   "source": [
    "T = int(input())\n",
    "\n",
    "for _ in range(T):\n",
    "    H, W, N = map(int, input().split())\n",
    "    if N % H == 0:\n",
    "        print((H * 100) + (N // H))\n",
    "\n",
    "    else:\n",
    "        print(((N % H) * 100) + ((N // H) + 1))\n"
   ]
  },
  {
   "cell_type": "markdown",
   "metadata": {},
   "source": [
    "- 문제번호: 2577\n",
    "- 문제이름: 숫자의 개수"
   ]
  },
  {
   "cell_type": "code",
   "execution_count": null,
   "metadata": {},
   "outputs": [],
   "source": [
    "A = int(input())\n",
    "B = int(input())\n",
    "C = int(input())\n",
    "\n",
    "nums = str(A * B * C)\n",
    "\n",
    "count = 0\n",
    "\n",
    "for i in range(10):\n",
    "    for j in nums:\n",
    "        if str(i) == j:\n",
    "            count += 1\n",
    "    print(count)\n",
    "    count = 0"
   ]
  },
  {
   "cell_type": "markdown",
   "metadata": {},
   "source": [
    "- 문제번호: 2920\n",
    "- 문제이름: 음계"
   ]
  },
  {
   "cell_type": "code",
   "execution_count": null,
   "metadata": {},
   "outputs": [],
   "source": [
    "S = input()\n",
    "\n",
    "if S == \"1 2 3 4 5 6 7 8\":\n",
    "    print(\"ascending\")\n",
    "elif S == \"8 7 6 5 4 3 2 1\":\n",
    "    print(\"descending\")\n",
    "else:\n",
    "    print(\"mixed\")"
   ]
  },
  {
   "cell_type": "markdown",
   "metadata": {},
   "source": [
    "- 문제번호: 8958\n",
    "- 문제이름: OX퀴즈"
   ]
  },
  {
   "cell_type": "code",
   "execution_count": null,
   "metadata": {},
   "outputs": [],
   "source": [
    "T = int(input())\n",
    "\n",
    "for _ in range(T):\n",
    "    answers = input()\n",
    "    score = 0\n",
    "    stack = 0\n",
    "    for i in answers:\n",
    "        if i == \"X\":\n",
    "            stack = 0\n",
    "        else:\n",
    "            stack += 1\n",
    "            score += stack\n",
    "    \n",
    "    print(score)"
   ]
  }
 ],
 "metadata": {
  "kernelspec": {
   "display_name": "base",
   "language": "python",
   "name": "python3"
  },
  "language_info": {
   "codemirror_mode": {
    "name": "ipython",
    "version": 3
   },
   "file_extension": ".py",
   "mimetype": "text/x-python",
   "name": "python",
   "nbconvert_exporter": "python",
   "pygments_lexer": "ipython3",
   "version": "3.9.13"
  }
 },
 "nbformat": 4,
 "nbformat_minor": 2
}
